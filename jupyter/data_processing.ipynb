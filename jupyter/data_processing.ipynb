{
 "cells": [
  {
   "cell_type": "code",
   "execution_count": null,
   "metadata": {},
   "outputs": [],
   "source": [
    "import csv"
   ]
  },
  {
   "cell_type": "code",
   "execution_count": null,
   "metadata": {},
   "outputs": [],
   "source": [
    "#Take original database and only use certain variables\n",
    "path = \"../tables/medianage.csv\""
   ]
  },
  {
   "cell_type": "code",
   "execution_count": null,
   "metadata": {},
   "outputs": [],
   "source": [
    "countries = []\n",
    "ages = []\n",
    "deaths = []\n",
    "\n",
    "with open(path) as csvfile:\n",
    "    readCSV = csv.reader(csvfile, delimiter='\\n')\n",
    "    for row_csv in readCSV:\n",
    "        row = row_csv[0].split(',')\n",
    "        countries.append(row[0])\n",
    "        ages.append(row[1])\n",
    "        deaths.append(row[2])"
   ]
  },
  {
   "cell_type": "code",
   "execution_count": null,
   "metadata": {},
   "outputs": [],
   "source": [
    "data_total = list(zip(countries, ages, deaths))"
   ]
  },
  {
   "cell_type": "code",
   "execution_count": null,
   "metadata": {},
   "outputs": [],
   "source": [
    "#Save new CSV file\n",
    "f=open('new_medianage.csv','w')\n",
    "for row in data_total:\n",
    "  print(row[0]+\",\"+row[1]+\",\"+row[2], file=f)\n",
    "f.close()"
   ]
  },
  {
   "cell_type": "code",
   "execution_count": null,
   "metadata": {},
   "outputs": [],
   "source": [
    "#Take original database and only use certain variables\n",
    "path = \"../tables/density.csv\""
   ]
  },
  {
   "cell_type": "code",
   "execution_count": null,
   "metadata": {},
   "outputs": [],
   "source": [
    "countries = []  #0\n",
    "deaths = []     #4\n",
    "densities = []  #6\n",
    "\n",
    "with open(path) as csvfile:\n",
    "    readCSV = csv.reader(csvfile, delimiter='\\n')\n",
    "    for row_csv in readCSV:\n",
    "        row = row_csv[0].split(',')\n",
    "        if (row[2] == \"\\\"May 30\"):\n",
    "            countries.append(row[0])\n",
    "            deaths.append(row[4])\n",
    "            densities.append(row[6])"
   ]
  },
  {
   "cell_type": "code",
   "execution_count": null,
   "metadata": {},
   "outputs": [],
   "source": [
    "data_total = list(zip(countries, deaths, densities))"
   ]
  },
  {
   "cell_type": "code",
   "execution_count": null,
   "metadata": {},
   "outputs": [],
   "source": [
    "len(data_total)"
   ]
  },
  {
   "cell_type": "code",
   "execution_count": null,
   "metadata": {},
   "outputs": [],
   "source": [
    "#Save new CSV file\n",
    "f=open('new_density.csv','w')\n",
    "for row in data_total:\n",
    "  print(row[0]+\",\"+row[1]+\",\"+row[2], file=f)\n",
    "f.close()"
   ]
  },
  {
   "cell_type": "code",
   "execution_count": null,
   "metadata": {},
   "outputs": [],
   "source": [
    "#Take original database and only use certain variables\n",
    "path = \"../tables/internetuse.csv\""
   ]
  },
  {
   "cell_type": "code",
   "execution_count": null,
   "metadata": {},
   "outputs": [],
   "source": [
    "countries = []  #0\n",
    "per_use = []    #3\n",
    "\n",
    "with open(path) as csvfile:\n",
    "    readCSV = csv.reader(csvfile, delimiter='\\n')\n",
    "    for row_csv in readCSV:\n",
    "        row = row_csv[0].split(',')\n",
    "        if (row[2] == \"2016\"):\n",
    "            countries.append(row[0])\n",
    "            per_use.append(row[3])"
   ]
  },
  {
   "cell_type": "code",
   "execution_count": null,
   "metadata": {},
   "outputs": [],
   "source": [
    "data_total = list(zip(countries, per_use))\n",
    "len(data_total)"
   ]
  },
  {
   "cell_type": "code",
   "execution_count": null,
   "metadata": {},
   "outputs": [],
   "source": [
    "#Save new CSV file\n",
    "f=open('new_internetuse.csv','w')\n",
    "for row in data_total:\n",
    "  print(row[0]+\",\"+row[1], file=f)\n",
    "f.close()"
   ]
  },
  {
   "cell_type": "code",
   "execution_count": null,
   "metadata": {},
   "outputs": [],
   "source": [
    "#Take original database and only use certain variables\n",
    "path = \"../tables/fatalityrate.csv\""
   ]
  },
  {
   "cell_type": "code",
   "execution_count": null,
   "metadata": {},
   "outputs": [],
   "source": [
    "countries = []  #0\n",
    "rates = []      #4\n",
    "\n",
    "with open(path) as csvfile:\n",
    "    readCSV = csv.reader(csvfile, delimiter='\\n')\n",
    "    for row_csv in readCSV:\n",
    "        row = row_csv[0].split(',')\n",
    "        if (row[2] == \"30-May-20\"):\n",
    "            countries.append(row[0])\n",
    "            rates.append(row[3])"
   ]
  },
  {
   "cell_type": "code",
   "execution_count": null,
   "metadata": {},
   "outputs": [],
   "source": [
    "print(countries)\n",
    "data_total = list(zip(countries, rates))\n",
    "len(data_total)"
   ]
  },
  {
   "cell_type": "code",
   "execution_count": null,
   "metadata": {},
   "outputs": [],
   "source": [
    "#Save new CSV file\n",
    "f=open('new_fatalityrate.csv','w')\n",
    "for row in data_total:\n",
    "  print(row[0]+\",\"+row[1], file=f)\n",
    "f.close()"
   ]
  },
  {
   "cell_type": "code",
   "execution_count": null,
   "metadata": {},
   "outputs": [],
   "source": []
  }
 ],
 "metadata": {
  "kernelspec": {
   "display_name": "Python 3",
   "language": "python",
   "name": "python3"
  },
  "language_info": {
   "codemirror_mode": {
    "name": "ipython",
    "version": 3
   },
   "file_extension": ".py",
   "mimetype": "text/x-python",
   "name": "python",
   "nbconvert_exporter": "python",
   "pygments_lexer": "ipython3",
   "version": "3.6.8"
  }
 },
 "nbformat": 4,
 "nbformat_minor": 2
}
