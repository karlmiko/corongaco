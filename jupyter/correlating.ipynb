{
 "cells": [
  {
   "cell_type": "code",
   "execution_count": 42,
   "metadata": {},
   "outputs": [],
   "source": [
    "import csv"
   ]
  },
  {
   "cell_type": "code",
   "execution_count": 43,
   "metadata": {},
   "outputs": [],
   "source": [
    "#Take modified databases to correlate them\n",
    "path_medianage    = \"../tables/medianage.csv\"\n",
    "path_density      = \"../tables/density.csv\"\n",
    "path_internetuse  = \"../tables/internetuse.csv\"\n",
    "path_fatalityrate = \"../tables/fatalityrate.csv\""
   ]
  },
  {
   "cell_type": "code",
   "execution_count": 44,
   "metadata": {},
   "outputs": [],
   "source": [
    "countries        = []\n",
    "median_ages      = []\n",
    "total_deaths     = []\n",
    "deaths_mil       = []\n",
    "density          = []\n",
    "per_use_internet = []\n",
    "fatality_rate    = []"
   ]
  },
  {
   "cell_type": "code",
   "execution_count": 45,
   "metadata": {},
   "outputs": [],
   "source": [
    "with open(path_medianage) as csvfile:\n",
    "    readCSV = csv.reader(csvfile, delimiter='\\n')\n",
    "    for row_csv in readCSV:\n",
    "        row = row_csv[0].split(',')\n",
    "        countries.append(row[0])\n",
    "        median_ages.append(row[1])\n",
    "        total_deaths.append(row[2])"
   ]
  },
  {
   "cell_type": "code",
   "execution_count": 46,
   "metadata": {},
   "outputs": [
    {
     "name": "stdout",
     "output_type": "stream",
     "text": [
      "128\n"
     ]
    }
   ],
   "source": [
    "print(len(countries))"
   ]
  },
  {
   "cell_type": "code",
   "execution_count": 47,
   "metadata": {},
   "outputs": [],
   "source": [
    "countries_density = []\n",
    "\n",
    "with open(path_density) as csvfile:\n",
    "    readCSV = csv.reader(csvfile, delimiter='\\n')\n",
    "    for row_csv in readCSV:\n",
    "        row = row_csv[0].split(',')\n",
    "        \n",
    "        if row[0] in countries:\n",
    "            countries_density.append(row[0])\n",
    "            deaths_mil.append(row[1])\n",
    "            density.append(row[2])"
   ]
  },
  {
   "cell_type": "code",
   "execution_count": 48,
   "metadata": {},
   "outputs": [
    {
     "name": "stdout",
     "output_type": "stream",
     "text": [
      "125\n"
     ]
    }
   ],
   "source": [
    "print(len(countries_density))"
   ]
  },
  {
   "cell_type": "code",
   "execution_count": 49,
   "metadata": {},
   "outputs": [],
   "source": [
    "countries_internetuse = []\n",
    "\n",
    "with open(path_internetuse) as csvfile:\n",
    "    readCSV = csv.reader(csvfile, delimiter='\\n')\n",
    "    for row_csv in readCSV:\n",
    "        row = row_csv[0].split(',')\n",
    "        \n",
    "        if row[0] in countries:\n",
    "            countries_internetuse.append(row[0])\n",
    "            per_use_internet.append(row[1])"
   ]
  },
  {
   "cell_type": "code",
   "execution_count": 50,
   "metadata": {},
   "outputs": [
    {
     "name": "stdout",
     "output_type": "stream",
     "text": [
      "127\n"
     ]
    }
   ],
   "source": [
    "print(len(countries_internetuse))"
   ]
  },
  {
   "cell_type": "code",
   "execution_count": 51,
   "metadata": {},
   "outputs": [],
   "source": [
    "countries_fatalityrate = []\n",
    "\n",
    "with open(path_fatalityrate) as csvfile:\n",
    "    readCSV = csv.reader(csvfile, delimiter='\\n')\n",
    "    for row_csv in readCSV:\n",
    "        row = row_csv[0].split(',')\n",
    "        \n",
    "        if row[0] in countries:\n",
    "            countries_fatalityrate.append(row[0])\n",
    "            fatality_rate.append(row[1])"
   ]
  },
  {
   "cell_type": "code",
   "execution_count": 52,
   "metadata": {},
   "outputs": [
    {
     "name": "stdout",
     "output_type": "stream",
     "text": [
      "126\n"
     ]
    }
   ],
   "source": [
    "print(len(countries_fatalityrate))"
   ]
  },
  {
   "cell_type": "code",
   "execution_count": 53,
   "metadata": {},
   "outputs": [],
   "source": [
    "#"
   ]
  },
  {
   "cell_type": "code",
   "execution_count": null,
   "metadata": {},
   "outputs": [],
   "source": []
  },
  {
   "cell_type": "code",
   "execution_count": 61,
   "metadata": {},
   "outputs": [],
   "source": [
    "final_countries        = []\n",
    "final_median_ages      = []\n",
    "final_total_deaths     = []\n",
    "final_deaths_mil       = []\n",
    "final_density          = []\n",
    "final_per_use_internet = []\n",
    "final_fatality_rate    = []"
   ]
  },
  {
   "cell_type": "code",
   "execution_count": 62,
   "metadata": {},
   "outputs": [],
   "source": [
    "\n",
    "for country in countries:  \n",
    "    if country in countries_density:\n",
    "        if country in countries_internetuse:\n",
    "            if country in countries_fatalityrate:\n",
    "                \n",
    "                index_countries    = countries.index(country)\n",
    "                index_density      = countries_density.index(country)\n",
    "                index_internetuse  = countries_internetuse.index(country)\n",
    "                index_fatalityrate = countries_fatalityrate.index(country)\n",
    "                \n",
    "                final_countries.append(countries[index_countries])\n",
    "                final_median_ages.append(median_ages[index_countries])\n",
    "                final_total_deaths.append(total_deaths[index_countries])\n",
    "                final_deaths_mil.append(deaths_mil[index_density])\n",
    "                final_density.append(density[index_density])\n",
    "                final_per_use_internet.append(per_use_internet[index_internetuse])\n",
    "                final_fatality_rate.append(fatality_rate[index_fatalityrate])\n",
    "                \n",
    "    "
   ]
  },
  {
   "cell_type": "code",
   "execution_count": 63,
   "metadata": {},
   "outputs": [
    {
     "data": {
      "text/plain": [
       "125"
      ]
     },
     "execution_count": 63,
     "metadata": {},
     "output_type": "execute_result"
    }
   ],
   "source": [
    "len(final_countries)"
   ]
  },
  {
   "cell_type": "code",
   "execution_count": 64,
   "metadata": {},
   "outputs": [],
   "source": [
    "big_matrix = list(zip(final_countries, final_median_ages, \n",
    "                      final_total_deaths, final_deaths_mil, \n",
    "                      final_density, final_per_use_internet,\n",
    "                      final_fatality_rate))"
   ]
  },
  {
   "cell_type": "code",
   "execution_count": 65,
   "metadata": {},
   "outputs": [
    {
     "data": {
      "text/plain": [
       "125"
      ]
     },
     "execution_count": 65,
     "metadata": {},
     "output_type": "execute_result"
    }
   ],
   "source": [
    "len(big_matrix)"
   ]
  },
  {
   "cell_type": "code",
   "execution_count": 67,
   "metadata": {},
   "outputs": [],
   "source": [
    "#Save new CSV file\n",
    "f=open('bigmatrix.csv','w')\n",
    "for row in big_matrix:\n",
    "  print(row[0]+\",\"+row[1]+\",\"+row[2]+\",\"+row[3]+\",\"+row[4]+\",\"+row[5]+\",\"+row[6], file=f)\n",
    "f.close()"
   ]
  },
  {
   "cell_type": "code",
   "execution_count": null,
   "metadata": {},
   "outputs": [],
   "source": []
  },
  {
   "cell_type": "code",
   "execution_count": null,
   "metadata": {},
   "outputs": [],
   "source": []
  }
 ],
 "metadata": {
  "kernelspec": {
   "display_name": "Python 3",
   "language": "python",
   "name": "python3"
  },
  "language_info": {
   "codemirror_mode": {
    "name": "ipython",
    "version": 3
   },
   "file_extension": ".py",
   "mimetype": "text/x-python",
   "name": "python",
   "nbconvert_exporter": "python",
   "pygments_lexer": "ipython3",
   "version": "3.6.8"
  }
 },
 "nbformat": 4,
 "nbformat_minor": 2
}
